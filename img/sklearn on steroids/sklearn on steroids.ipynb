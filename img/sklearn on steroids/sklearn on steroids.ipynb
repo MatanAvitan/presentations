{
 "cells": [
  {
   "cell_type": "markdown",
   "id": "9d3ad828-0fb4-4fc0-a273-d8eb167da4bc",
   "metadata": {},
   "source": [
    "<font color='#bb1c2a' size=5>\n",
    "    <h2>\n",
    "        <b>\n",
    "$Why$ you should use sklearn for preprocessing and $how$ you should do it\n",
    "            </b>\n",
    "    </h2>\n",
    "</font>\n",
    "    "
   ]
  },
  {
   "cell_type": "code",
   "execution_count": null,
   "id": "738aa1e3-597d-4389-9dc0-62685449f0c1",
   "metadata": {
    "tags": []
   },
   "outputs": [],
   "source": [
    "from collections import Counter\n",
    "import random\n",
    "import sys\n",
    "import warnings\n",
    "warnings.filterwarnings(action='ignore')\n",
    "\n",
    "import numpy as np\n",
    "import pandas as pd\n",
    "import seaborn as sns\n",
    "import mlflow\n",
    "from sklearn.base import BaseEstimator, ClassifierMixin\n",
    "from sklearn.linear_model import LogisticRegression\n",
    "from sklearn.neighbors import KNeighborsClassifier\n",
    "from sklearn.model_selection import train_test_split, RandomizedSearchCV, GridSearchCV\n",
    "from sklearn.metrics import roc_auc_score\n",
    "from sklearn.preprocessing import MinMaxScaler, OneHotEncoder, OrdinalEncoder, StandardScaler\n",
    "from sklearn.impute import SimpleImputer, KNNImputer\n",
    "from sklearn.pipeline import Pipeline, make_pipeline\n",
    "from sklearn import set_config\n",
    "from sklearn.compose import ColumnTransformer, make_column_transformer\n",
    "from IPython.display import Image, HTML\n",
    "from sklearn.ensemble import RandomForestClassifier\n",
    "from catboost import CatBoostClassifier\n",
    "from lightgbm import LGBMClassifier\n",
    "\n",
    "\n",
    "\n",
    "TEST_SIZE, SEED = 0.5, 0\n",
    "random.seed(SEED)\n",
    "np.random.seed(SEED)\n",
    "features = ['pclass', 'sex', 'age', 'sibsp', 'parch', 'fare', 'deck']\n",
    "label = 'survived'\n",
    "# Load dataset\n",
    "ds = sns.load_dataset('titanic')\n",
    "ds"
   ]
  },
  {
   "cell_type": "code",
   "execution_count": null,
   "id": "5f88844d-41b1-4f19-ac0e-3891f4d3cc7f",
   "metadata": {},
   "outputs": [],
   "source": [
    "ds[features + [label]].info()"
   ]
  },
  {
   "cell_type": "markdown",
   "id": "38603999-30b9-4d6f-8e92-55e8f810a89e",
   "metadata": {},
   "source": [
    "<font color='#263d4d' size=3>\n",
    "    <h1>\n",
    "0.$\\;$Preprocessing with pandas"
   ]
  },
  {
   "cell_type": "code",
   "execution_count": null,
   "id": "5fa7190f-bb41-4b45-b66f-eccda8812702",
   "metadata": {},
   "outputs": [],
   "source": [
    "X, y = ds[['pclass', 'sex', 'age', 'sibsp', 'parch', 'fare']], ds[['survived']]\n",
    "\n",
    "# Encode sex as 0 and 1 \n",
    "X['sex'] = X['sex'].apply(lambda x: x=='male').astype(np.int8)\n",
    "# Impute age's nan values with the mean\n",
    "X.loc[X['age'].isna(), 'age'] = X['age'].mean()\n",
    "\n",
    "# Evaluate model\n",
    "X_train, X_test, y_train, y_test = train_test_split(X, y, test_size=TEST_SIZE, random_state=SEED, stratify=y)\n",
    "clf = KNeighborsClassifier()\n",
    "clf.fit(X_train, y_train)\n",
    "y_pred = clf.predict(X_test)\n",
    "roc_auc_score(y_test, y_pred)"
   ]
  },
  {
   "cell_type": "markdown",
   "id": "35fdc289-0ec1-425e-85b4-86b0a1d39451",
   "metadata": {},
   "source": [
    "<font color='#1e78fa' size=1>\n",
    "    <h1>\n",
    "Now we want to use $embark\\_town$ feature, it is a categorical feature. <br>\n",
    "The most convenient way to do so is to use sklearn's OneHotEncoder."
   ]
  },
  {
   "cell_type": "markdown",
   "id": "2f2b5ebe-95ac-4ec0-8f8a-0c4ecf1fd77c",
   "metadata": {},
   "source": [
    "<font color='#1e78fa' size=1>\n",
    "    <h1>\n",
    "Important notes about OneHotEncoder:<br>\n",
    "    1. You can encode nan values with one extra column. <br>\n",
    "    2. You can raise an error in case the OneHotEncoder face a new value which didn't appear in the fit. <br>\n",
    "    3. You can drop one column to avoid collinearity (for example it a must in OLS solution for LinearRegression)"
   ]
  },
  {
   "cell_type": "code",
   "execution_count": null,
   "id": "5c7fa1ac-7dee-4495-9581-27356c206ac8",
   "metadata": {},
   "outputs": [],
   "source": [
    "Counter(ds['embark_town'])"
   ]
  },
  {
   "cell_type": "code",
   "execution_count": null,
   "id": "108283da-29d7-43bd-9fe5-382bc34662c4",
   "metadata": {},
   "outputs": [],
   "source": [
    "df = pd.DataFrame([(1,2), (3,4), (np.nan, 9)], columns=['a', 'b'])\n",
    "df"
   ]
  },
  {
   "cell_type": "code",
   "execution_count": null,
   "id": "99ed7e5d-7911-4605-9254-7f7038c40fdf",
   "metadata": {},
   "outputs": [],
   "source": [
    "# 1\n",
    "o = OneHotEncoder(sparse=False)\n",
    "print(o.fit_transform(df[['a']]))\n",
    "o.categories_"
   ]
  },
  {
   "cell_type": "code",
   "execution_count": null,
   "id": "902ac571-e2c3-44e0-887c-9579b68c4577",
   "metadata": {},
   "outputs": [],
   "source": [
    "# 2\n",
    "o = OneHotEncoder(sparse=False, handle_unknown='error')\n",
    "print(o.fit_transform(df.loc[:1, ['a']]))\n",
    "try:\n",
    "    o.transform(df.loc[[2], ['a']])\n",
    "except ValueError as e:\n",
    "    print(f'Error: {e}')"
   ]
  },
  {
   "cell_type": "code",
   "execution_count": null,
   "id": "7aca8e33-76bf-4799-874a-2a9e9d7d3026",
   "metadata": {},
   "outputs": [],
   "source": [
    "# 3\n",
    "o = OneHotEncoder(sparse=False, drop='first')\n",
    "print(o.fit_transform(df[['a']]))\n",
    "o.categories_"
   ]
  },
  {
   "cell_type": "markdown",
   "id": "07cb2432-f9fe-48d0-b1c8-280737cf524c",
   "metadata": {},
   "source": [
    "<font color='#1e78fa' size=1>\n",
    "    <h1>\n",
    "Let's plug the OneHotEncoder into our model"
   ]
  },
  {
   "cell_type": "code",
   "execution_count": null,
   "id": "58ba5acd-ebcd-479f-9bd4-3c2fb4abdb11",
   "metadata": {},
   "outputs": [],
   "source": [
    "X, y = ds[['pclass', 'sex', 'age', 'sibsp', 'parch', 'fare', 'embark_town']], ds[['survived']]\n",
    "\n",
    "# Encode sex as 0 and 1 \n",
    "X['sex'] = X['sex'].apply(lambda x: x=='male').astype(np.int8)\n",
    "# Impute age's nan values with the mean\n",
    "X.loc[X['age'].isna(), 'age'] = X['age'].mean()\n",
    "\n",
    "# Encode embark_town with OneHotEncoder\n",
    "ohe = OneHotEncoder(sparse=False)\n",
    "X[ohe.categories_[0]] = ohe.fit_transform(X[['embark_town']])\n",
    "X = X.drop(['embark_town'], axis=1)\n",
    "\n",
    "# Evaluate model\n",
    "X_train, X_test, y_train, y_test = train_test_split(X, y, test_size=TEST_SIZE, random_state=SEED, stratify=y)\n",
    "clf = KNeighborsClassifier()\n",
    "clf.fit(X_train, y_train)\n",
    "y_pred = clf.predict(X_test)\n",
    "roc_auc_score(y_test, y_pred)"
   ]
  },
  {
   "cell_type": "markdown",
   "id": "b7a1aa9f-72b9-4198-9b1c-6a5ce3963369",
   "metadata": {
    "jp-MarkdownHeadingCollapsed": true,
    "tags": []
   },
   "source": [
    "<font color='#263d4d' size=3>\n",
    "    <h1>\n",
    "1.$\\;$Regular preprocessing using sklearn and pandas"
   ]
  },
  {
   "cell_type": "markdown",
   "id": "5aacfa17-0b95-4a16-80e5-baef187014b3",
   "metadata": {},
   "source": [
    "<font color='#1e78fa' size=2>\n",
    "    <h1>\n",
    "What's the problem with the following code?"
   ]
  },
  {
   "cell_type": "code",
   "execution_count": null,
   "id": "0585cbf8-2aa9-48b0-8b8f-8153571c6345",
   "metadata": {},
   "outputs": [],
   "source": [
    "X, y = ds[features], ds[['survived']]\n",
    "\n",
    "# Encode sex as 0 and 1 \n",
    "X['sex'] = X['sex'].apply(lambda x: x=='male').astype(np.int8)\n",
    "\n",
    "# Standardize the features\n",
    "si_age = SimpleImputer(strategy='mean')\n",
    "si_deck = SimpleImputer(strategy='most_frequent')\n",
    "ohe_deck = OneHotEncoder(sparse=False)\n",
    "ss = StandardScaler()\n",
    "\n",
    "scaled_features = list(set(X.columns) - set(['deck']))\n",
    "X['age'] = si_age.fit_transform(X[['age']])\n",
    "X['deck'] = si_deck.fit_transform(X[['deck']])\n",
    "X[ohe_deck.categories_[0]] = ohe_deck.fit_transform(X[['deck']])\n",
    "X = X.drop('deck', axis=1)\n",
    "X[scaled_features] = ss.fit_transform(X[scaled_features])\n",
    "\n",
    "# Evaluate model\n",
    "X_train, X_test, y_train, y_test = train_test_split(X, y, test_size=TEST_SIZE, random_state=SEED, stratify=y)\n",
    "clf = KNeighborsClassifier()\n",
    "clf.fit(X_train, y_train)\n",
    "y_pred = clf.predict(X_test)\n",
    "roc_auc_score(y_test, y_pred)"
   ]
  },
  {
   "cell_type": "code",
   "execution_count": null,
   "id": "c7936562-4fdc-4046-95e2-4f57c5b5b5b7",
   "metadata": {},
   "outputs": [],
   "source": [
    "si_age.statistics_, si_deck.statistics_, ohe_deck.categories_, (ss.mean_, ss.scale_)"
   ]
  },
  {
   "cell_type": "markdown",
   "id": "4b7ef351-6736-4151-ac4e-730b9a6bca21",
   "metadata": {},
   "source": [
    "<font color='#1e78fa' size=2>\n",
    "    <h1>\n",
    "A possible fix up"
   ]
  },
  {
   "cell_type": "code",
   "execution_count": null,
   "id": "4b928dc6-f61a-44b1-bc4c-81e5acee856b",
   "metadata": {},
   "outputs": [],
   "source": [
    "X, y = ds[features], ds[['survived']]\n",
    "\n",
    "# Encode sex as 0 and 1 \n",
    "X['sex'] = X['sex'].apply(lambda x: x=='male').astype(np.int8)\n",
    "X_train, X_test, y_train, y_test = train_test_split(X, y, test_size=TEST_SIZE, random_state=SEED, stratify=y)\n",
    "\n",
    "# Standardize the features\n",
    "si_age = SimpleImputer(strategy='mean')\n",
    "si_deck = SimpleImputer(strategy='most_frequent')\n",
    "ohe_deck = OneHotEncoder(sparse=False, handle_unknown='ignore')\n",
    "ss = StandardScaler()\n",
    "\n",
    "X_train['age'] = si_age.fit_transform(X_train[['age']])\n",
    "X_train['deck'] = si_deck.fit_transform(X_train[['deck']])\n",
    "X_train[ohe_deck.categories_[0]] = ohe_deck.fit_transform(X_train[['deck']])\n",
    "X_train = X_train.drop('deck', axis=1)\n",
    "X_train[scaled_features] = ss.fit_transform(X_train[scaled_features])\n",
    "\n",
    "# Evaluate model\n",
    "clf = KNeighborsClassifier()\n",
    "clf.fit(X_train, y_train)\n",
    "X_test['age'] = si_age.transform(X_test[['age']])\n",
    "X_test['deck'] = si_deck.transform(X_test[['deck']])\n",
    "X_test[ohe_deck.categories_[0]] = ohe_deck.transform(X_test[['deck']])\n",
    "X_test = X_test.drop('deck', axis=1)\n",
    "X_test[scaled_features] = ss.transform(X_test[scaled_features])\n",
    "\n",
    "y_pred = clf.predict(X_test)\n",
    "roc_auc_score(y_test, y_pred)"
   ]
  },
  {
   "cell_type": "code",
   "execution_count": null,
   "id": "fe1c0d84-a99e-4707-8f5f-9b568a8753e0",
   "metadata": {},
   "outputs": [],
   "source": [
    "si_age.statistics_, si_deck.statistics_, ohe_deck.categories_, (ss.mean_, ss.scale_)"
   ]
  },
  {
   "cell_type": "code",
   "execution_count": null,
   "id": "912b1a30-7f84-4185-84aa-0cf9c01d726f",
   "metadata": {},
   "outputs": [],
   "source": [
    "Image('img/burst-pipe.jpeg', width=1000)"
   ]
  },
  {
   "cell_type": "markdown",
   "id": "0a445710-61dc-4a2f-8d0e-6ec943370392",
   "metadata": {},
   "source": [
    "<font color='#1e78fa' size=3>\n",
    "    <h1>\n",
    "        <b>\n",
    "As we can see, a leakage in the preprocessing step is easier than we thought!<br>\n",
    "We should treat the test set as unseen set, we cannot use it even to impute missing values, scale, or normalize, ever."
   ]
  },
  {
   "cell_type": "markdown",
   "id": "74211340-0af0-4238-99d2-1aadf4dbfd23",
   "metadata": {},
   "source": [
    "<font color='#263d4d' size=3>\n",
    "    <h1>\n",
    "2.$\\;$Pipline and ColumnTranformer to the rescue!"
   ]
  },
  {
   "cell_type": "markdown",
   "id": "241e8c72-902b-46ae-ac35-c3c391f2a986",
   "metadata": {},
   "source": [
    "<font color='#1e78fa' size=2>\n",
    "    <h1>\n",
    "        Pipeline - <i>Sequentially apply a list of transforms and (you don't have to!) a final estimator</i>.<br>\n",
    "        ColumnTransformer - <i>Applies transformers to columns of an array or pandas DataFrame.</i>.\n",
    "        <p></p>\n",
    "    </h1>\n",
    "    <h2>\n",
    "Few notes about a pipeline:<br>\n",
    "1. If your pipe's steps contain transforms only, you should use:<br>\n",
    "        <b><p></p>\n",
    "            <i>pipe.transform</i> / \n",
    "            <i>pipe.fit_transform</i>\n",
    "        </b><br><p></p>\n",
    "2. If your pipe's final step is an estimator, you should use:<br>\n",
    "        <b><p></p>\n",
    "            <i>pipe.predict</i> / \n",
    "            <i>pipe.fit_predict</i>\n",
    "        </b>"
   ]
  },
  {
   "cell_type": "code",
   "execution_count": null,
   "id": "3a983eee-f3c6-4f15-9c05-417b081f0654",
   "metadata": {},
   "outputs": [],
   "source": [
    "X, y = ds[features + ['adult_male', 'alone']], ds[['survived']]\n",
    "\n",
    "# Format: List of steps \n",
    "deck_pipe = Pipeline([('deck_si', SimpleImputer(strategy='most_frequent')),\n",
    "                      ('deck_ohe', OneHotEncoder(sparse=False, handle_unknown='ignore'))])\n",
    "\n",
    "# Format: The name of the transformation, the transformation itself, the columns we want to apply to\n",
    "ct = ColumnTransformer([('sex_oe', OrdinalEncoder(handle_unknown='error'), ['sex']),\n",
    "                        ('adult_male_oe', OrdinalEncoder(handle_unknown='error'), ['adult_male']),\n",
    "                        ('alone_oe', OrdinalEncoder(handle_unknown='error'), ['alone']),\n",
    "                        ('age_si', KNNImputer(n_neighbors=7), ['age']),\n",
    "                        ('deck_transform', deck_pipe, ['deck'])],\n",
    "                        remainder='passthrough')\n",
    "pipe = Pipeline([('preprocessing', ct), \n",
    "                 ('model', LogisticRegression())])\n",
    "\n",
    "X_train, X_test, y_train, y_test = train_test_split(X, y, test_size=TEST_SIZE, random_state=SEED, stratify=y)\n",
    "pipe.fit(X_train, y_train)\n",
    "y_pred = pipe.predict(X_test)\n",
    "roc_auc_score(y_test, y_pred)"
   ]
  },
  {
   "cell_type": "code",
   "execution_count": null,
   "id": "38c8c9cc-787f-474c-86dd-2d5e34cf211b",
   "metadata": {},
   "outputs": [],
   "source": [
    "Image('img/pipeline VS old.png', width=1000)"
   ]
  },
  {
   "cell_type": "code",
   "execution_count": null,
   "id": "c9b44e8b-8cd8-40e1-9a35-de3d286e14e0",
   "metadata": {},
   "outputs": [],
   "source": [
    "pipe"
   ]
  },
  {
   "cell_type": "markdown",
   "id": "46be8930-cf49-4fdf-a6e4-0c1855b9751b",
   "metadata": {},
   "source": [
    "<font color='#1e78fa' size=5>\n",
    "    <h1>\n",
    "OR..."
   ]
  },
  {
   "cell_type": "code",
   "execution_count": null,
   "id": "aa82d7e5-e71c-452f-b4a7-18a939a42729",
   "metadata": {},
   "outputs": [],
   "source": [
    "set_config(display='diagram')\n",
    "pipe"
   ]
  },
  {
   "cell_type": "markdown",
   "id": "367b1310-36cb-4c85-a29d-46e3cd59910c",
   "metadata": {},
   "source": [
    "<font color='#1e78fa' size=1>\n",
    "    <h1>\n",
    "You can easily argue I have a leakage in the code above, it seems like it has the same structure as the leaky one.<br>\n",
    "Well, it doesn't, and I'll explain why.<br>\n",
    "    </h1>\n",
    "    </font>\n",
    "    <font color='#03aaf9' size=1>\n",
    "    <h1>\n",
    "        First scenario, your last pipe step is an estimator:<br> \n",
    "        $\\;\\;\\;\\;\\;$While calling pipe.fit(): <br>\n",
    "        $\\;\\;\\;\\;\\;$ $\\;\\;\\;\\;\\;$* All the steps before the last one are actually calling step.fit_transform(). <br>\n",
    "        $\\;\\;\\;\\;\\;$ $\\;\\;\\;\\;\\;$* The last step calls estimator.fit() only. <p></p>\n",
    "        $\\;\\;\\;\\;\\;$While calling pipe.predict(): <br>\n",
    "        $\\;\\;\\;\\;\\;$ $\\;\\;\\;\\;\\;$* All the steps before the last one are actually calling step.transform(). <br>\n",
    "        $\\;\\;\\;\\;\\;$ $\\;\\;\\;\\;\\;$* The last step calls estimator.predict() only. <p></p>\n",
    "        Second scenario, all your steps are transforms:<br>\n",
    "        $\\;\\;\\;\\;\\;$While calling pipe.fit(): <br>\n",
    "        $\\;\\;\\;\\;\\;$ $\\;\\;\\;\\;\\;$* All the steps call step.fit_transform(). <p></p> \n",
    "        $\\;\\;\\;\\;\\;$While calling pipe.predict(): <br>\n",
    "        $\\;\\;\\;\\;\\;$ $\\;\\;\\;\\;\\;$* <font color='red'>Wrong!</font> (you don't have an estimator, what you wanna predict?!?) <p></p>    \n",
    "        $\\;\\;\\;\\;\\;$While calling pipe.transform(): <br>\n",
    "        $\\;\\;\\;\\;\\;$ $\\;\\;\\;\\;\\;$* All the steps call step.transform(). \n",
    "    </h1>\n",
    "    </font>\n",
    "    <p></p>\n",
    "    <font color='#1e78fa' size=1>\n",
    "    <h1>\n",
    "    This way we guarantee no leakage.<br>\n",
    "    It's also much cleaner, more powerful, and not to mention how beauty it is... "
   ]
  },
  {
   "cell_type": "markdown",
   "id": "791351bf-0822-4ea6-af79-851371577875",
   "metadata": {},
   "source": [
    "<font color='#fab666' size=1>\n",
    "    <h1>\n",
    "    -----------------------------------------------------------------------------------------------------------------"
   ]
  },
  {
   "cell_type": "markdown",
   "id": "33ae27eb-6b36-4f76-9ed2-11ea94ccc3c1",
   "metadata": {},
   "source": [
    "<font color='#1e78fa' size=1>\n",
    "    <h1>\n",
    "        How can I access the different steps of the pipe? <b>by name of course</b>"
   ]
  },
  {
   "cell_type": "code",
   "execution_count": null,
   "id": "3e5d0e4b-58d4-4c33-bfd1-ff95505774f2",
   "metadata": {},
   "outputs": [],
   "source": [
    "set_config(display='text')"
   ]
  },
  {
   "cell_type": "code",
   "execution_count": null,
   "id": "81ef7c99-6164-4030-994a-5d333d2d7264",
   "metadata": {},
   "outputs": [],
   "source": [
    "pipe.named_steps"
   ]
  },
  {
   "cell_type": "code",
   "execution_count": null,
   "id": "bc3c157c-b6b6-4210-ae66-7e9e1f95b77a",
   "metadata": {},
   "outputs": [],
   "source": [
    "pipe.named_steps['preprocessing']"
   ]
  },
  {
   "cell_type": "code",
   "execution_count": null,
   "id": "eaaa366d-b1e0-41a7-9e9a-af3452eacadd",
   "metadata": {},
   "outputs": [],
   "source": [
    "pipe.named_steps['preprocessing'].named_transformers_"
   ]
  },
  {
   "cell_type": "code",
   "execution_count": null,
   "id": "ab7c1cfb-ab6c-48a4-8abb-996f70dc1ed1",
   "metadata": {},
   "outputs": [],
   "source": [
    "pipe.named_steps['preprocessing'].named_transformers_['age_si']"
   ]
  },
  {
   "cell_type": "markdown",
   "id": "5d71e116-3e14-48c7-a5ff-a0ef903f9609",
   "metadata": {},
   "source": [
    "<font color='#263d4d' size=3>\n",
    "    <h1>\n",
    "3.$\\;$ Anonymous Pipelines and ColumnTransformer"
   ]
  },
  {
   "cell_type": "markdown",
   "id": "4aa682a4-74a7-4a42-b982-4acbbb1faacd",
   "metadata": {},
   "source": [
    "<font color='#1e78fa' size=1>\n",
    "    <h1>\n",
    "        Although anyone has a name, not every pipeline should have. <br>\n",
    "        I find it clearer to use anonymous pipes when they are inner, and named pipes for the top-level ones<br>\n",
    "        The same applies for ColumnTransformer."
   ]
  },
  {
   "cell_type": "code",
   "execution_count": null,
   "id": "fcd70396-68a9-4105-836d-35e2d806d18a",
   "metadata": {},
   "outputs": [],
   "source": [
    "X, y = ds[features + ['adult_male', 'alone']], ds[['survived']]\n",
    "\n",
    "# Format: Annonymous steps\n",
    "deck_pipe = make_pipeline(SimpleImputer(strategy='most_frequent'), OneHotEncoder(sparse=False, handle_unknown='ignore'))\n",
    "\n",
    "# Format: Annonymous transformations\n",
    "ct = make_column_transformer((OrdinalEncoder(handle_unknown='error'), ['sex']),\n",
    "                             (OrdinalEncoder(handle_unknown='error'), ['adult_male']),\n",
    "                             (OrdinalEncoder(handle_unknown='error'), ['alone']),\n",
    "                             (KNNImputer(n_neighbors=7), ['age']),\n",
    "                             (deck_pipe, ['deck']),\n",
    "                             remainder='passthrough')\n",
    "pipe = Pipeline([('preprocessing', ct), \n",
    "                 ('model', LogisticRegression())])\n",
    "\n",
    "X_train, X_test, y_train, y_test = train_test_split(X, y, test_size=TEST_SIZE, random_state=SEED, stratify=y)\n",
    "pipe.fit(X_train, y_train)\n",
    "y_pred = pipe.predict(X_test)\n",
    "roc_auc_score(y_test, y_pred)"
   ]
  },
  {
   "cell_type": "markdown",
   "id": "ae37566c-c2d5-484e-bd3d-5b6144643c53",
   "metadata": {},
   "source": [
    "<p>"
   ]
  },
  {
   "cell_type": "markdown",
   "id": "53f77e9b-d5b1-47fe-ba5c-f98df2e9f33d",
   "metadata": {},
   "source": [
    "<font color='#1e78fa' size=4>\n",
    "    <h1>\n",
    "Allright, but I want to make my model even stronger!"
   ]
  },
  {
   "cell_type": "markdown",
   "id": "b8d2a23b-5ae0-4e24-ae50-7f67d4a8ee80",
   "metadata": {},
   "source": [
    "<font color='#263d4d' size=3>\n",
    "    <h1>\n",
    "4.$\\;$Hyperparameter optimization time!"
   ]
  },
  {
   "cell_type": "code",
   "execution_count": null,
   "id": "590275fb-5c14-48bb-8965-bc3ec4ee2bfe",
   "metadata": {},
   "outputs": [],
   "source": [
    "cb_clf_params = {\n",
    "    'model__learning_rate':     np.arange(0.05, 0.31, 0.05),\n",
    "    'model__max_depth':         np.arange(5, 25, 1, dtype=int),\n",
    "    'model__n_estimators':      [25, 100, 250],\n",
    "    'model__l2_leaf_reg':       [0, 3, 5, 8, 12],\n",
    "    \n",
    "}\n",
    "cb_fit_params = {\n",
    "    'model__early_stopping_rounds': 10,\n",
    "    'model__verbose': False\n",
    "}"
   ]
  },
  {
   "cell_type": "code",
   "execution_count": null,
   "id": "90796dab-c1a5-4b57-9d9f-59ec4d2d0a26",
   "metadata": {
    "tags": []
   },
   "outputs": [],
   "source": [
    "K_FOLDS = 5\n",
    "N_COMBINATIONS = 5\n",
    "set_config(display='diagram')\n",
    "\n",
    "X, y = ds[features + ['adult_male', 'alone']], ds[['survived']]\n",
    "\n",
    "# Format: Annonymous steps\n",
    "deck_pipe = make_pipeline(SimpleImputer(strategy='most_frequent'), OneHotEncoder(sparse=False, handle_unknown='ignore'))\n",
    "\n",
    "# Format: Annonymous transforms\n",
    "ct = make_column_transformer((OrdinalEncoder(handle_unknown='error'), ['sex']),\n",
    "                             (OrdinalEncoder(handle_unknown='error'), ['adult_male']),\n",
    "                             (OrdinalEncoder(handle_unknown='error'), ['alone']),\n",
    "                             (KNNImputer(n_neighbors=7), ['age']),\n",
    "                             (deck_pipe, ['deck']),\n",
    "                             remainder='passthrough')\n",
    "\n",
    "pipe = Pipeline([('preprocessing', ct), \n",
    "                 ('model', CatBoostClassifier(verbose=False))])\n",
    "\n",
    "grid = RandomizedSearchCV(pipe, cb_clf_params, cv=K_FOLDS, scoring='roc_auc', n_iter=N_COMBINATIONS, random_state=SEED)\n",
    "grid.fit(X, y)\n",
    "grid"
   ]
  },
  {
   "cell_type": "markdown",
   "id": "95d4c0f1-0db9-45f9-bb3f-6a1408aeba20",
   "metadata": {},
   "source": [
    "<font color='#1e78fa' size=1>\n",
    "    <h1>\n",
    "        It's really usefull to have a look at the test results for each set of hyperparameters."
   ]
  },
  {
   "cell_type": "code",
   "execution_count": null,
   "id": "01574789-89e7-4fdf-8053-c6ec2cfe8acf",
   "metadata": {},
   "outputs": [],
   "source": [
    "# Analyze results\n",
    "results = pd.DataFrame(grid.cv_results_)[['params', 'rank_test_score', 'mean_test_score', *[f'split{i}_test_score' for i in range(K_FOLDS)]]].sort_values(['rank_test_score'])\n",
    "results"
   ]
  },
  {
   "cell_type": "markdown",
   "id": "fde2e2ff-4695-4deb-9ffe-d3f51631a52a",
   "metadata": {},
   "source": [
    "<font color='#1e78fa' size=1>\n",
    "    <h1>\n",
    "        We can also access the (trained) best estimator and it's associated test result."
   ]
  },
  {
   "cell_type": "code",
   "execution_count": null,
   "id": "29df24eb-5c4c-4194-a065-b7c92177cb1b",
   "metadata": {},
   "outputs": [],
   "source": [
    "grid.best_estimator_, grid.best_score_"
   ]
  },
  {
   "cell_type": "markdown",
   "id": "d7265ee4-7222-4fc4-86de-a45e34701ee4",
   "metadata": {},
   "source": [
    "<font color='#263d4d' size=3>\n",
    "    <h1>\n",
    "        5.$\\;$ Becoming greedy, how do we do HPO for <b>multiple models</b> at the same time?"
   ]
  },
  {
   "cell_type": "code",
   "execution_count": null,
   "id": "02b178d6-1811-40ea-84d5-4ed0afa2ec02",
   "metadata": {},
   "outputs": [],
   "source": [
    "cb_clf_params = {\n",
    "    'model__learning_rate':     np.arange(0.05, 0.31, 0.05),\n",
    "    'model__max_depth':         np.arange(5, 25, 1, dtype=int),\n",
    "    'model__n_estimators':      [25, 100, 250],\n",
    "    'model__l2_leaf_reg':       [0, 3, 5, 8, 12],\n",
    "    'model': [CatBoostClassifier(verbose=False)]\n",
    "}\n",
    "\n",
    "lgb_clf_params = {\n",
    "    'model__learning_rate':     np.arange(0.05, 0.31, 0.05),\n",
    "    'model__max_depth':         np.arange(5, 25, 1, dtype=int),\n",
    "    'model__n_estimators':      [25, 100, 250],\n",
    "    'model__reg_lambda': [0, 0.05, 0.1, 0.2],\n",
    "    'model__num_leaves': np.linspace(20, 500, 50, dtype=int),\n",
    "    'model': [LGBMClassifier(verbose=None)]\n",
    "}\n",
    "\n",
    "models_dict = [cb_clf_params, lgb_clf_params]"
   ]
  },
  {
   "cell_type": "code",
   "execution_count": null,
   "id": "7eb60430-dbd8-49cf-9e0c-e313eb0b0c0a",
   "metadata": {
    "tags": []
   },
   "outputs": [],
   "source": [
    "%%capture cap\n",
    "K_FOLDS = 5\n",
    "N_COMBINATIONS = 5\n",
    "\n",
    "X, y = ds[features + ['adult_male', 'alone']], ds[['survived']]\n",
    "\n",
    "# Format: Annonymous steps\n",
    "deck_pipe = make_pipeline(SimpleImputer(strategy='most_frequent'), OneHotEncoder(sparse=False, handle_unknown='ignore'))\n",
    "\n",
    "# Format: Annonymous transforms\n",
    "ct = make_column_transformer((OrdinalEncoder(handle_unknown='error'), ['sex']),\n",
    "                             (OrdinalEncoder(handle_unknown='error'), ['adult_male']),\n",
    "                             (OrdinalEncoder(handle_unknown='error'), ['alone']),\n",
    "                             (KNNImputer(n_neighbors=7), ['age']),\n",
    "                             (deck_pipe, ['deck']),\n",
    "                             remainder='passthrough')\n",
    "\n",
    "pipe = Pipeline([('preprocessing', ct), \n",
    "                 ('model', CatBoostClassifier(verbose=False))])\n",
    "\n",
    "grid = RandomizedSearchCV(pipe, models_dict, cv=K_FOLDS, scoring='roc_auc', n_iter=N_COMBINATIONS, random_state=SEED)\n",
    "grid.fit(X, y)"
   ]
  },
  {
   "cell_type": "code",
   "execution_count": null,
   "id": "5a6ef9c1-d1ce-49ef-a3af-f67f55eb1cd4",
   "metadata": {},
   "outputs": [],
   "source": [
    "# Analyze results\n",
    "results = pd.DataFrame(grid.cv_results_)[['params', 'mean_test_score', 'rank_test_score']].sort_values(['rank_test_score'])\n",
    "results"
   ]
  },
  {
   "cell_type": "markdown",
   "id": "a1d7a230-12d8-4efa-951f-35b1b6d9bd1a",
   "metadata": {},
   "source": [
    "<font color='#1e78fa' size=4>\n",
    "    <h1>\n",
    "        <b>And the winner is......</b>"
   ]
  },
  {
   "cell_type": "code",
   "execution_count": null,
   "id": "c9ccbbf2-40bd-4034-ac32-665144c0a656",
   "metadata": {},
   "outputs": [],
   "source": [
    "results.iloc[0]['params']['model']"
   ]
  },
  {
   "cell_type": "markdown",
   "id": "e969c8f2-c84c-4cba-8f6c-2d75f77299ab",
   "metadata": {},
   "source": [
    "<font color='#1e78fa' size=4>\n",
    "    <h1>\n",
    "        <b>With a score of......</b>"
   ]
  },
  {
   "cell_type": "code",
   "execution_count": null,
   "id": "4f45ad77-363c-4587-bdaf-98af09f592cf",
   "metadata": {},
   "outputs": [],
   "source": [
    "results.iloc[0]['mean_test_score']"
   ]
  },
  {
   "cell_type": "markdown",
   "id": "d7ac44e7-07e6-40f9-9d35-63f40b28ffd4",
   "metadata": {},
   "source": [
    "<font color='#263d4d' size=3>\n",
    "    <h1>\n",
    "        6.$\\;$ Create your own classifier and add it to the pipe"
   ]
  },
  {
   "cell_type": "code",
   "execution_count": null,
   "id": "277fcc7c-fb20-4550-9e71-1f6d9d2e6adb",
   "metadata": {},
   "outputs": [],
   "source": [
    "class MatansModel(BaseEstimator, ClassifierMixin):\n",
    "    def __init__(self, **kwargs):\n",
    "        self.kwargs = kwargs\n",
    "        self.cb = CatBoostClassifier(**{'n_estimators': 25, 'max_depth': 13, 'learning_rate': 0.3, 'l2_leaf_reg': 3, 'verbose':False})\n",
    "        self.lgb = LGBMClassifier(**{'learning_rate':0.2, 'max_depth':13, 'n_estimators':25, 'num_leaves':49, 'reg_lambda':0.05, 'verbose':None})\n",
    "        self.lr = LogisticRegression()\n",
    "    \n",
    "    def fit(self, X, y=None):\n",
    "        self.cb.fit(X, y)\n",
    "        self.lgb.fit(X, y)\n",
    "        self.lr.fit(X, y)\n",
    "    \n",
    "    def predict(self, X):\n",
    "        preds_arr = np.zeros(shape=(X.shape[0], 3))\n",
    "        preds_arr[:,0] = self.cb.predict(X).flatten()\n",
    "        preds_arr[:,1] = self.lgb.predict(X).flatten()\n",
    "        preds_arr[:,2] = self.lr.predict(X).flatten()\n",
    "        \n",
    "        result_arr = preds_arr.sum(axis=1)\n",
    "        result_arr[result_arr<2] = 0\n",
    "        result_arr[result_arr>=2] = 1\n",
    "        return result_arr\n",
    "    \n",
    "    def score(self, X, y):\n",
    "        return roc_auc_score(y, self.predict(X))"
   ]
  },
  {
   "cell_type": "code",
   "execution_count": null,
   "id": "2eae69d0-4154-4f9d-9cb0-90dc2ff056a8",
   "metadata": {
    "tags": []
   },
   "outputs": [],
   "source": [
    "%%capture c\n",
    "X, y = ds[features + ['adult_male', 'alone']], ds[['survived']]\n",
    "\n",
    "# Format: Annonymous steps\n",
    "deck_pipe = make_pipeline(SimpleImputer(strategy='most_frequent'), OneHotEncoder(sparse=False, handle_unknown='ignore'))\n",
    "\n",
    "# Format: Annonymous transformations\n",
    "ct = make_column_transformer((OrdinalEncoder(handle_unknown='error'), ['sex']),\n",
    "                             (OrdinalEncoder(handle_unknown='error'), ['adult_male']),\n",
    "                             (OrdinalEncoder(handle_unknown='error'), ['alone']),\n",
    "                             (KNNImputer(n_neighbors=7), ['age']),\n",
    "                             (deck_pipe, ['deck']),\n",
    "                             remainder='passthrough')\n",
    "pipe = Pipeline([('preprocessing', ct), \n",
    "                 ('model', MatansModel())])\n",
    "\n",
    "X_train, X_test, y_train, y_test = train_test_split(X, y, test_size=TEST_SIZE, random_state=SEED, stratify=y)\n",
    "pipe.fit(X_train, y_train)\n",
    "y_pred = pipe.predict(X_test)"
   ]
  },
  {
   "cell_type": "code",
   "execution_count": null,
   "id": "0ac8ec0f-2fc4-4611-a5c0-32982d1e88d1",
   "metadata": {},
   "outputs": [],
   "source": [
    "# Same same\n",
    "pipe.score(X_test, y_test), roc_auc_score(y_test, y_pred)"
   ]
  },
  {
   "cell_type": "code",
   "execution_count": null,
   "id": "51a092d8-aa8f-441d-a09a-dc15bb6f926f",
   "metadata": {},
   "outputs": [],
   "source": [
    "pipe"
   ]
  },
  {
   "cell_type": "code",
   "execution_count": null,
   "id": "f6afe66e-abb5-4ddd-a521-edd869789b4f",
   "metadata": {},
   "outputs": [],
   "source": []
  }
 ],
 "metadata": {
  "kernelspec": {
   "display_name": "Python 3 (ipykernel)",
   "language": "python",
   "name": "python3"
  },
  "language_info": {
   "codemirror_mode": {
    "name": "ipython",
    "version": 3
   },
   "file_extension": ".py",
   "mimetype": "text/x-python",
   "name": "python",
   "nbconvert_exporter": "python",
   "pygments_lexer": "ipython3",
   "version": "3.8.11"
  }
 },
 "nbformat": 4,
 "nbformat_minor": 5
}
